{
 "cells": [
  {
   "cell_type": "code",
   "execution_count": null,
   "metadata": {},
   "outputs": [],
   "source": [
    "import pandas as pd\n",
    "import numpy as np\n",
    "import matplotlib.pyplot as plt"
   ]
  },
  {
   "cell_type": "code",
   "execution_count": null,
   "metadata": {},
   "outputs": [],
   "source": [
    "df_sub = pd.read_csv(\"subscriptions_merged.csv\") #merged file between original subscriptions_mix and the new subscriptions_60K\n",
    "trans_df = pd.read_csv(\"new_transactions.csv\") #transactional dataset from lumoshive"
   ]
  },
  {
   "cell_type": "code",
   "execution_count": null,
   "metadata": {},
   "outputs": [],
   "source": [
    "revenue_df = df_sub[df_sub['revenue_in_USD'] > 0]"
   ]
  },
  {
   "cell_type": "code",
   "execution_count": null,
   "metadata": {},
   "outputs": [],
   "source": [
    "revenue_df['revenue_in_USD'].unique()"
   ]
  },
  {
   "cell_type": "code",
   "execution_count": null,
   "metadata": {},
   "outputs": [],
   "source": [
    "attempt_charging = df_sub[df_sub['attempt_charging'] > 0]"
   ]
  },
  {
   "cell_type": "code",
   "execution_count": null,
   "metadata": {},
   "outputs": [],
   "source": [
    "attempt_charging = df_sub[df_sub['attempt_charging'] > 0]"
   ]
  },
  {
   "cell_type": "code",
   "execution_count": null,
   "metadata": {},
   "outputs": [],
   "source": [
    "attempt_charging['attempt_charging'].describe()"
   ]
  },
  {
   "cell_type": "code",
   "execution_count": null,
   "metadata": {},
   "outputs": [],
   "source": [
    "sampled_attempt_charging = attempt_charging['attempt_charging'].sample(n=20)\n",
    "sampled_revenue = revenue_df['revenue_in_USD'].sample(n=20)"
   ]
  },
  {
   "cell_type": "code",
   "execution_count": null,
   "metadata": {},
   "outputs": [],
   "source": [
    "sampled_attempt_charging.describe()"
   ]
  },
  {
   "cell_type": "code",
   "execution_count": null,
   "metadata": {},
   "outputs": [],
   "source": [
    "sampled_revenue.describe()"
   ]
  },
  {
   "cell_type": "code",
   "execution_count": null,
   "metadata": {},
   "outputs": [],
   "source": [
    "sampled_revenue"
   ]
  },
  {
   "cell_type": "code",
   "execution_count": null,
   "metadata": {},
   "outputs": [],
   "source": [
    "sampled_attempt_charging"
   ]
  },
  {
   "cell_type": "code",
   "execution_count": null,
   "metadata": {},
   "outputs": [],
   "source": [
    "import pandas as pd\n",
    "from scipy.stats import ttest_ind\n",
    "\n",
    "charging_attempts = {'charging_attempts' : sampled_attempt_charging}\n",
    "revenue = {'revenue' : sampled_revenue}\n",
    "\n",
    "attempts = pd.DataFrame(charging_attempts)\n",
    "revenue = pd.DataFrame(revenue)\n",
    "\n",
    "t_statistic, p_value = ttest_ind(revenue['revenue'], attempts['charging_attempts'])\n",
    "\n",
    "\n",
    "print(f'T-statistic: {t_statistic}')\n",
    "print(f'P-value: {p_value}')\n",
    "\n",
    "if p_value < 0.05:\n",
    "    print('There is a significant difference. Reject the null hypothesis.')\n",
    "else:\n",
    "    print('There is not enough evidence to reject the null hypothesis.')"
   ]
  },
  {
   "cell_type": "code",
   "execution_count": null,
   "metadata": {},
   "outputs": [],
   "source": [
    "import pandas as pd\n",
    "from scipy.stats import  pearsonr\n",
    "\n",
    "correlation_coeff, p_value = pearsonr(revenue['revenue'], attempts['charging_attempts'])\n",
    "\n",
    "\n",
    "print(f'Pearson Correlation Coefficient: {correlation_coeff}')\n",
    "print(f'P-value: {p_value}')\n",
    "\n",
    "if p_value < 0.05:\n",
    "    print('There is a significant difference. Reject the null hypothesis.')\n",
    "else:\n",
    "    print('There is not enough evidence to reject the null hypothesis.')"
   ]
  },
  {
   "cell_type": "code",
   "execution_count": null,
   "metadata": {},
   "outputs": [],
   "source": [
    "df_sub['service'].unique()"
   ]
  },
  {
   "cell_type": "code",
   "execution_count": null,
   "metadata": {},
   "outputs": [],
   "source": [
    "filtered_gemezz = df_sub[df_sub['service'] == \"gemezz\"]\n",
    "gemezz = filtered_gemezz[filtered_gemezz['revenue_in_USD'] > 1]"
   ]
  },
  {
   "cell_type": "code",
   "execution_count": null,
   "metadata": {},
   "outputs": [],
   "source": [
    "filtered_slypee = df_sub[df_sub['service'] == \"slypee\"]\n",
    "slypee = filtered_slypee[filtered_slypee['revenue_in_USD'] > 1]"
   ]
  },
  {
   "cell_type": "code",
   "execution_count": null,
   "metadata": {},
   "outputs": [],
   "source": [
    "sampled_slypee = slypee['revenue_in_USD'].sample(n=30)\n",
    "sampled_gemezz = gemezz['revenue_in_USD'].sample(n=30)"
   ]
  },
  {
   "cell_type": "code",
   "execution_count": null,
   "metadata": {},
   "outputs": [],
   "source": [
    "import pandas as pd\n",
    "from scipy.stats import ttest_ind\n",
    "\n",
    "slypee_revenue = {'slypee_revenue' : sampled_slypee}\n",
    "gemezz_revenue = {'gemezz_revenue' : sampled_gemezz}\n",
    "\n",
    "slypee = pd.DataFrame(slypee_revenue)\n",
    "gemezz = pd.DataFrame(gemezz_revenue)\n",
    "\n",
    "t_statistic, p_value = ttest_ind(slypee_revenue['slypee_revenue'], gemezz_revenue['gemezz_revenue'])\n",
    "\n",
    "\n",
    "print(f'T-statistic: {t_statistic}')\n",
    "print(f'P-value: {p_value}')\n",
    "\n",
    "if p_value < 0.05:\n",
    "    print('There is a significant difference. Reject the null hypothesis.')\n",
    "else:\n",
    "    print('There is not enough evidence to reject the null hypothesis.')"
   ]
  },
  {
   "cell_type": "code",
   "execution_count": null,
   "metadata": {},
   "outputs": [],
   "source": [
    "import pandas as pd\n",
    "from scipy.stats import  pearsonr\n",
    "\n",
    "correlation_coeff, p_value = pearsonr(slypee_revenue['slypee_revenue'], gemezz_revenue['gemezz_revenue'])\n",
    "\n",
    "\n",
    "print(f'Pearson Correlation Coefficient: {correlation_coeff}')\n",
    "print(f'P-value: {p_value}')\n",
    "\n",
    "if p_value < 0.05:\n",
    "    print('There is a significant difference. Reject the null hypothesis.')\n",
    "else:\n",
    "    print('There is not enough evidence to reject the null hypothesis.')"
   ]
  },
  {
   "cell_type": "code",
   "execution_count": null,
   "metadata": {},
   "outputs": [],
   "source": [
    "gemezz.describe()"
   ]
  },
  {
   "cell_type": "code",
   "execution_count": null,
   "metadata": {},
   "outputs": [],
   "source": [
    "slypee.describe()"
   ]
  }
 ],
 "metadata": {
  "language_info": {
   "name": "python"
  }
 },
 "nbformat": 4,
 "nbformat_minor": 2
}
